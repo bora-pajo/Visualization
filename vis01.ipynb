{
 "cells": [
  {
   "cell_type": "code",
   "execution_count": 1,
   "metadata": {
    "collapsed": false
   },
   "outputs": [
    {
     "data": {
      "text/plain": [
       "7"
      ]
     },
     "execution_count": 1,
     "metadata": {},
     "output_type": "execute_result"
    }
   ],
   "source": [
    "2+5"
   ]
  },
  {
   "cell_type": "code",
   "execution_count": 2,
   "metadata": {
    "collapsed": false
   },
   "outputs": [
    {
     "data": {
      "text/plain": [
       "14"
      ]
     },
     "execution_count": 2,
     "metadata": {},
     "output_type": "execute_result"
    }
   ],
   "source": [
    "_*2"
   ]
  },
  {
   "cell_type": "code",
   "execution_count": 4,
   "metadata": {
    "collapsed": true
   },
   "outputs": [],
   "source": [
    "import csv\n",
    "import numpy as np\n",
    "import pandas as pd\n",
    "import matplotlib.pyplot as plt\n",
    "%matplotlib inline"
   ]
  },
  {
   "cell_type": "code",
   "execution_count": 9,
   "metadata": {
    "collapsed": true
   },
   "outputs": [],
   "source": [
    "df = pd.read_csv('data03.csv')"
   ]
  },
  {
   "cell_type": "code",
   "execution_count": 10,
   "metadata": {
    "collapsed": false
   },
   "outputs": [
    {
     "data": {
      "text/html": [
       "<div>\n",
       "<table border=\"1\" class=\"dataframe\">\n",
       "  <thead>\n",
       "    <tr style=\"text-align: right;\">\n",
       "      <th></th>\n",
       "      <th>birthyear</th>\n",
       "      <th>weight</th>\n",
       "      <th>selfweight</th>\n",
       "      <th>height</th>\n",
       "      <th>selfheight</th>\n",
       "      <th>Gender</th>\n",
       "      <th>gradelevel</th>\n",
       "      <th>marital</th>\n",
       "      <th>educationmother</th>\n",
       "      <th>motherprof</th>\n",
       "      <th>...</th>\n",
       "      <th>depress</th>\n",
       "      <th>lackenergy</th>\n",
       "      <th>failure</th>\n",
       "      <th>rewardinglife</th>\n",
       "      <th>amusing</th>\n",
       "      <th>cheerful</th>\n",
       "      <th>healthy</th>\n",
       "      <th>lifecontrol</th>\n",
       "      <th>GPA</th>\n",
       "      <th>sleephr</th>\n",
       "    </tr>\n",
       "  </thead>\n",
       "  <tbody>\n",
       "    <tr>\n",
       "      <th>0</th>\n",
       "      <td>1998</td>\n",
       "      <td>160</td>\n",
       "      <td>5</td>\n",
       "      <td>59</td>\n",
       "      <td>1</td>\n",
       "      <td>1</td>\n",
       "      <td>1</td>\n",
       "      <td>1</td>\n",
       "      <td>3</td>\n",
       "      <td>social worker</td>\n",
       "      <td>...</td>\n",
       "      <td>1</td>\n",
       "      <td>1</td>\n",
       "      <td>2</td>\n",
       "      <td>3.0</td>\n",
       "      <td>3.0</td>\n",
       "      <td>7.0</td>\n",
       "      <td>3.0</td>\n",
       "      <td>2.0</td>\n",
       "      <td>3.4</td>\n",
       "      <td>7</td>\n",
       "    </tr>\n",
       "  </tbody>\n",
       "</table>\n",
       "<p>1 rows × 89 columns</p>\n",
       "</div>"
      ],
      "text/plain": [
       "   birthyear  weight  selfweight  height  selfheight  Gender  gradelevel  \\\n",
       "0       1998     160           5      59           1       1           1   \n",
       "\n",
       "   marital  educationmother     motherprof   ...     depress lackenergy  \\\n",
       "0        1                3  social worker   ...           1          1   \n",
       "\n",
       "   failure  rewardinglife  amusing  cheerful  healthy  lifecontrol  GPA  \\\n",
       "0        2            3.0      3.0       7.0      3.0          2.0  3.4   \n",
       "\n",
       "   sleephr  \n",
       "0        7  \n",
       "\n",
       "[1 rows x 89 columns]"
      ]
     },
     "execution_count": 10,
     "metadata": {},
     "output_type": "execute_result"
    }
   ],
   "source": [
    "df.head(1)"
   ]
  },
  {
   "cell_type": "code",
   "execution_count": 11,
   "metadata": {
    "collapsed": false
   },
   "outputs": [
    {
     "name": "stderr",
     "output_type": "stream",
     "text": [
      "//anaconda/lib/python2.7/site-packages/numpy/lib/function_base.py:4116: RuntimeWarning: Invalid value encountered in percentile\n",
      "  interpolation=interpolation)\n"
     ]
    },
    {
     "data": {
      "text/html": [
       "<div>\n",
       "<table border=\"1\" class=\"dataframe\">\n",
       "  <thead>\n",
       "    <tr style=\"text-align: right;\">\n",
       "      <th></th>\n",
       "      <th>birthyear</th>\n",
       "      <th>weight</th>\n",
       "      <th>selfweight</th>\n",
       "      <th>height</th>\n",
       "      <th>selfheight</th>\n",
       "      <th>Gender</th>\n",
       "      <th>gradelevel</th>\n",
       "      <th>marital</th>\n",
       "      <th>educationmother</th>\n",
       "      <th>educationfather</th>\n",
       "      <th>...</th>\n",
       "      <th>stairs</th>\n",
       "      <th>depress</th>\n",
       "      <th>lackenergy</th>\n",
       "      <th>failure</th>\n",
       "      <th>rewardinglife</th>\n",
       "      <th>amusing</th>\n",
       "      <th>cheerful</th>\n",
       "      <th>healthy</th>\n",
       "      <th>lifecontrol</th>\n",
       "      <th>sleephr</th>\n",
       "    </tr>\n",
       "  </thead>\n",
       "  <tbody>\n",
       "    <tr>\n",
       "      <th>count</th>\n",
       "      <td>162.000000</td>\n",
       "      <td>162.000000</td>\n",
       "      <td>162.000000</td>\n",
       "      <td>162.000000</td>\n",
       "      <td>162.000000</td>\n",
       "      <td>162.000000</td>\n",
       "      <td>162.000000</td>\n",
       "      <td>162.000000</td>\n",
       "      <td>162.000000</td>\n",
       "      <td>161.000000</td>\n",
       "      <td>...</td>\n",
       "      <td>162.000000</td>\n",
       "      <td>162.000000</td>\n",
       "      <td>162.000000</td>\n",
       "      <td>162.000000</td>\n",
       "      <td>160.000000</td>\n",
       "      <td>161.000000</td>\n",
       "      <td>160.000000</td>\n",
       "      <td>161.000000</td>\n",
       "      <td>161.000000</td>\n",
       "      <td>162.000000</td>\n",
       "    </tr>\n",
       "    <tr>\n",
       "      <th>mean</th>\n",
       "      <td>1913.333333</td>\n",
       "      <td>157.209877</td>\n",
       "      <td>3.086420</td>\n",
       "      <td>67.567901</td>\n",
       "      <td>2.962963</td>\n",
       "      <td>1.444444</td>\n",
       "      <td>2.320988</td>\n",
       "      <td>1.450617</td>\n",
       "      <td>2.518519</td>\n",
       "      <td>2.459627</td>\n",
       "      <td>...</td>\n",
       "      <td>3.228395</td>\n",
       "      <td>2.203704</td>\n",
       "      <td>2.549383</td>\n",
       "      <td>2.117284</td>\n",
       "      <td>5.131250</td>\n",
       "      <td>5.124224</td>\n",
       "      <td>5.100000</td>\n",
       "      <td>5.534161</td>\n",
       "      <td>5.422360</td>\n",
       "      <td>7.716049</td>\n",
       "    </tr>\n",
       "    <tr>\n",
       "      <th>std</th>\n",
       "      <td>386.851569</td>\n",
       "      <td>32.165224</td>\n",
       "      <td>1.202456</td>\n",
       "      <td>7.394707</td>\n",
       "      <td>0.996197</td>\n",
       "      <td>0.522773</td>\n",
       "      <td>1.151042</td>\n",
       "      <td>0.546615</td>\n",
       "      <td>1.159472</td>\n",
       "      <td>1.188454</td>\n",
       "      <td>...</td>\n",
       "      <td>7.703572</td>\n",
       "      <td>10.886278</td>\n",
       "      <td>10.853658</td>\n",
       "      <td>10.909216</td>\n",
       "      <td>3.088062</td>\n",
       "      <td>2.561147</td>\n",
       "      <td>2.582476</td>\n",
       "      <td>2.559373</td>\n",
       "      <td>2.682442</td>\n",
       "      <td>7.279230</td>\n",
       "    </tr>\n",
       "    <tr>\n",
       "      <th>min</th>\n",
       "      <td>99.000000</td>\n",
       "      <td>99.000000</td>\n",
       "      <td>1.000000</td>\n",
       "      <td>0.000000</td>\n",
       "      <td>1.000000</td>\n",
       "      <td>1.000000</td>\n",
       "      <td>1.000000</td>\n",
       "      <td>1.000000</td>\n",
       "      <td>0.000000</td>\n",
       "      <td>0.000000</td>\n",
       "      <td>...</td>\n",
       "      <td>1.000000</td>\n",
       "      <td>0.000000</td>\n",
       "      <td>0.000000</td>\n",
       "      <td>0.000000</td>\n",
       "      <td>1.000000</td>\n",
       "      <td>1.000000</td>\n",
       "      <td>1.000000</td>\n",
       "      <td>1.000000</td>\n",
       "      <td>1.000000</td>\n",
       "      <td>5.000000</td>\n",
       "    </tr>\n",
       "    <tr>\n",
       "      <th>25%</th>\n",
       "      <td>1995.000000</td>\n",
       "      <td>135.000000</td>\n",
       "      <td>2.000000</td>\n",
       "      <td>65.000000</td>\n",
       "      <td>2.000000</td>\n",
       "      <td>1.000000</td>\n",
       "      <td>1.000000</td>\n",
       "      <td>1.000000</td>\n",
       "      <td>2.000000</td>\n",
       "      <td>NaN</td>\n",
       "      <td>...</td>\n",
       "      <td>1.000000</td>\n",
       "      <td>0.000000</td>\n",
       "      <td>1.000000</td>\n",
       "      <td>0.000000</td>\n",
       "      <td>NaN</td>\n",
       "      <td>NaN</td>\n",
       "      <td>NaN</td>\n",
       "      <td>NaN</td>\n",
       "      <td>NaN</td>\n",
       "      <td>7.000000</td>\n",
       "    </tr>\n",
       "    <tr>\n",
       "      <th>50%</th>\n",
       "      <td>1996.000000</td>\n",
       "      <td>155.000000</td>\n",
       "      <td>3.000000</td>\n",
       "      <td>67.000000</td>\n",
       "      <td>3.000000</td>\n",
       "      <td>1.000000</td>\n",
       "      <td>2.000000</td>\n",
       "      <td>1.000000</td>\n",
       "      <td>3.000000</td>\n",
       "      <td>NaN</td>\n",
       "      <td>...</td>\n",
       "      <td>4.000000</td>\n",
       "      <td>1.000000</td>\n",
       "      <td>1.000000</td>\n",
       "      <td>1.000000</td>\n",
       "      <td>NaN</td>\n",
       "      <td>NaN</td>\n",
       "      <td>NaN</td>\n",
       "      <td>NaN</td>\n",
       "      <td>NaN</td>\n",
       "      <td>7.000000</td>\n",
       "    </tr>\n",
       "    <tr>\n",
       "      <th>75%</th>\n",
       "      <td>1997.000000</td>\n",
       "      <td>180.000000</td>\n",
       "      <td>4.000000</td>\n",
       "      <td>71.000000</td>\n",
       "      <td>3.000000</td>\n",
       "      <td>2.000000</td>\n",
       "      <td>3.000000</td>\n",
       "      <td>2.000000</td>\n",
       "      <td>3.000000</td>\n",
       "      <td>NaN</td>\n",
       "      <td>...</td>\n",
       "      <td>4.000000</td>\n",
       "      <td>1.000000</td>\n",
       "      <td>2.000000</td>\n",
       "      <td>1.000000</td>\n",
       "      <td>NaN</td>\n",
       "      <td>NaN</td>\n",
       "      <td>NaN</td>\n",
       "      <td>NaN</td>\n",
       "      <td>NaN</td>\n",
       "      <td>8.000000</td>\n",
       "    </tr>\n",
       "    <tr>\n",
       "      <th>max</th>\n",
       "      <td>1998.000000</td>\n",
       "      <td>265.000000</td>\n",
       "      <td>7.000000</td>\n",
       "      <td>99.000000</td>\n",
       "      <td>7.000000</td>\n",
       "      <td>3.000000</td>\n",
       "      <td>4.000000</td>\n",
       "      <td>4.000000</td>\n",
       "      <td>5.000000</td>\n",
       "      <td>4.000000</td>\n",
       "      <td>...</td>\n",
       "      <td>99.000000</td>\n",
       "      <td>99.000000</td>\n",
       "      <td>99.000000</td>\n",
       "      <td>99.000000</td>\n",
       "      <td>10.000000</td>\n",
       "      <td>10.000000</td>\n",
       "      <td>10.000000</td>\n",
       "      <td>10.000000</td>\n",
       "      <td>10.000000</td>\n",
       "      <td>99.000000</td>\n",
       "    </tr>\n",
       "  </tbody>\n",
       "</table>\n",
       "<p>8 rows × 69 columns</p>\n",
       "</div>"
      ],
      "text/plain": [
       "         birthyear      weight  selfweight      height  selfheight  \\\n",
       "count   162.000000  162.000000  162.000000  162.000000  162.000000   \n",
       "mean   1913.333333  157.209877    3.086420   67.567901    2.962963   \n",
       "std     386.851569   32.165224    1.202456    7.394707    0.996197   \n",
       "min      99.000000   99.000000    1.000000    0.000000    1.000000   \n",
       "25%    1995.000000  135.000000    2.000000   65.000000    2.000000   \n",
       "50%    1996.000000  155.000000    3.000000   67.000000    3.000000   \n",
       "75%    1997.000000  180.000000    4.000000   71.000000    3.000000   \n",
       "max    1998.000000  265.000000    7.000000   99.000000    7.000000   \n",
       "\n",
       "           Gender  gradelevel     marital  educationmother  educationfather  \\\n",
       "count  162.000000  162.000000  162.000000       162.000000       161.000000   \n",
       "mean     1.444444    2.320988    1.450617         2.518519         2.459627   \n",
       "std      0.522773    1.151042    0.546615         1.159472         1.188454   \n",
       "min      1.000000    1.000000    1.000000         0.000000         0.000000   \n",
       "25%      1.000000    1.000000    1.000000         2.000000              NaN   \n",
       "50%      1.000000    2.000000    1.000000         3.000000              NaN   \n",
       "75%      2.000000    3.000000    2.000000         3.000000              NaN   \n",
       "max      3.000000    4.000000    4.000000         5.000000         4.000000   \n",
       "\n",
       "          ...          stairs     depress  lackenergy     failure  \\\n",
       "count     ...      162.000000  162.000000  162.000000  162.000000   \n",
       "mean      ...        3.228395    2.203704    2.549383    2.117284   \n",
       "std       ...        7.703572   10.886278   10.853658   10.909216   \n",
       "min       ...        1.000000    0.000000    0.000000    0.000000   \n",
       "25%       ...        1.000000    0.000000    1.000000    0.000000   \n",
       "50%       ...        4.000000    1.000000    1.000000    1.000000   \n",
       "75%       ...        4.000000    1.000000    2.000000    1.000000   \n",
       "max       ...       99.000000   99.000000   99.000000   99.000000   \n",
       "\n",
       "       rewardinglife     amusing    cheerful     healthy  lifecontrol  \\\n",
       "count     160.000000  161.000000  160.000000  161.000000   161.000000   \n",
       "mean        5.131250    5.124224    5.100000    5.534161     5.422360   \n",
       "std         3.088062    2.561147    2.582476    2.559373     2.682442   \n",
       "min         1.000000    1.000000    1.000000    1.000000     1.000000   \n",
       "25%              NaN         NaN         NaN         NaN          NaN   \n",
       "50%              NaN         NaN         NaN         NaN          NaN   \n",
       "75%              NaN         NaN         NaN         NaN          NaN   \n",
       "max        10.000000   10.000000   10.000000   10.000000    10.000000   \n",
       "\n",
       "          sleephr  \n",
       "count  162.000000  \n",
       "mean     7.716049  \n",
       "std      7.279230  \n",
       "min      5.000000  \n",
       "25%      7.000000  \n",
       "50%      7.000000  \n",
       "75%      8.000000  \n",
       "max     99.000000  \n",
       "\n",
       "[8 rows x 69 columns]"
      ]
     },
     "execution_count": 11,
     "metadata": {},
     "output_type": "execute_result"
    }
   ],
   "source": [
    "df.describe()"
   ]
  },
  {
   "cell_type": "code",
   "execution_count": 14,
   "metadata": {
    "collapsed": false
   },
   "outputs": [
    {
     "data": {
      "text/plain": [
       "<matplotlib.axes._subplots.AxesSubplot at 0x115bef850>"
      ]
     },
     "execution_count": 14,
     "metadata": {},
     "output_type": "execute_result"
    },
    {
     "data": {
      "image/png": "[encoded data removed]",
      "text/plain": [
       "<matplotlib.figure.Figure at 0x115bef250>"
      ]
     },
     "metadata": {},
     "output_type": "display_data"
    }
   ],
   "source": [
    "df[['weight','sleephr']].plot()"
   ]
  },
  {
   "cell_type": "code",
   "execution_count": null,
   "metadata": {
    "collapsed": true
   },
   "outputs": [],
   "source": []
  }
 ],
 "metadata": {
  "kernelspec": {
   "display_name": "Python [conda root]",
   "language": "python",
   "name": "conda-root-py"
  },
  "language_info": {
   "codemirror_mode": {
    "name": "ipython",
    "version": 2
   },
   "file_extension": ".py",
   "mimetype": "text/x-python",
   "name": "python",
   "nbconvert_exporter": "python",
   "pygments_lexer": "ipython2",
   "version": "2.7.12"
  }
 },
 "nbformat": 4,
 "nbformat_minor": 2
}
