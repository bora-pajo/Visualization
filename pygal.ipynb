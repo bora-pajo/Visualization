{
 "cells": [
  {
   "cell_type": "code",
   "execution_count": 2,
   "metadata": {
    "collapsed": false
   },
   "outputs": [],
   "source": [
    "import pygal"
   ]
  },
  {
   "cell_type": "code",
   "execution_count": 5,
   "metadata": {
    "collapsed": true
   },
   "outputs": [],
   "source": [
    "#create a new stacked line chart.\n",
    "line = pygal.StackedLine(fill=True)\n",
    "line.title = 'Web hits in the past 2 years' #set chart title\n",
    "line.x_labels = map(str, range(2012, 2014)) #set the x-axis labels.\n",
    "line.add('Site A', [None, 0, 12, 32, 72, 148]) #set values.\n",
    "line.add('Site B', [2, 16, 12, 87, 91, 342]) #set values.\n",
    "line.add('Site C', [42, 55, 84, 88, 90, 171]) #set values.\n",
    "line.render_to_file('linechart.svg') #set filename."
   ]
  },
  {
   "cell_type": "code",
   "execution_count": 6,
   "metadata": {
    "collapsed": true
   },
   "outputs": [],
   "source": [
    "#create a new bar chart.\n",
    "bar = pygal.Bar()\n",
    "bar.title = 'Searches for term: sleep'\n",
    "bar.x_labels = map(str, range(2011, 2015))\n",
    "bar.add('Searches', [81, 88, 88, 100])\n",
    "bar.render_to_file('bar_chart.svg')"
   ]
  },
  {
   "cell_type": "code",
   "execution_count": 7,
   "metadata": {
    "collapsed": true
   },
   "outputs": [],
   "source": [
    "#Create a new stacked bar chart.\n",
    "bar = pygal.StackedBar()\n",
    "bar.title = 'Searches for term: sleep'\n",
    "bar.x_labels = map(str, range(2011, 2015))\n",
    "bar.add('Men', [81, 88, 88, 100])\n",
    "bar.add('Women', [78, 84, 69, 92])\n",
    "bar.render_to_file('bar_chart.svg')"
   ]
  },
  {
   "cell_type": "code",
   "execution_count": 8,
   "metadata": {
    "collapsed": true
   },
   "outputs": [],
   "source": [
    "xy_chart = pygal.XY()\n",
    "xy_chart.add('Value 1', [(-50, -30), (100, 45)])\n",
    "xy_chart.render_to_file(\"xy_chart.svg\")"
   ]
  },
  {
   "cell_type": "code",
   "execution_count": 9,
   "metadata": {
    "collapsed": true
   },
   "outputs": [],
   "source": [
    "xy_chart = pygal.XY()\n",
    "xy_chart.add('Value 1', [(-50, -30), (100, 45)])\n",
    "xy_chart.add('Value 2', [(-2, -14), (370, 444)])\n",
    "xy_chart.render_to_file(\"xyz_chart.svg\")"
   ]
  },
  {
   "cell_type": "code",
   "execution_count": 10,
   "metadata": {
    "collapsed": true
   },
   "outputs": [],
   "source": [
    "xy_chart = pygal.XY()\n",
    "xy_chart.add('Value 1', [(-50, -30), (100, 45), (120, 56), (168,\n",
    "102), (211, 192), (279, 211)])\n",
    "xy_chart.add('Value 2', [(-2, -14), (370, 444), (391, 464), (399,\n",
    "512), (412, 569), (789, 896)])\n",
    "xy_chart.add('Value 3', [(2, 10), (142, 164), (184, 216), (203, 243),\n",
    "(208, 335), (243, 201)])\n",
    "xy_chart.render_to_file(\"xyaa_chart.svg\")"
   ]
  },
  {
   "cell_type": "code",
   "execution_count": 14,
   "metadata": {
    "collapsed": true
   },
   "outputs": [],
   "source": [
    "pie_chart = pygal.Pie()\n",
    "pie_chart.title = 'Total top tablet sales in 2013 (in %)'\n",
    "pie_chart.add('iPad & iPad mini', 49.7)\n",
    "pie_chart.add('Surface Pro 2', 36.3)\n",
    "pie_chart.add('Surface 2', 24.5)\n",
    "pie_chart.add('Nexus 7', 17.5)\n",
    "pie_chart.render_to_file('pie_chart.svg')"
   ]
  },
  {
   "cell_type": "code",
   "execution_count": 17,
   "metadata": {
    "collapsed": true
   },
   "outputs": [],
   "source": [
    "pie_chart = pygal.Pie()\n",
    "pie_chart.title = 'Total top tablet sales in 2013 (in %)'\n",
    "pie_chart.add('iPad & iPad mini', [19.7, 21.3])\n",
    "pie_chart.add('Surface 2 (& Pro 2)', [24.5, 36.3])\n",
    "pie_chart.add('Nexus 7', 17.5)\n",
    "pie_chart.render_to_file('piestack_chart.svg')"
   ]
  },
  {
   "cell_type": "code",
   "execution_count": 19,
   "metadata": {
    "collapsed": false
   },
   "outputs": [],
   "source": [
    "radar_chart = pygal.Radar()\n",
    "radar_chart.title = 'Product Budget Figures'\n",
    "radar_chart.x_labels = ['Sales', 'Marketing', 'Development', 'Customer support', 'Information Technology', 'Administration']\n",
    "radar_chart.add('Estimate', [40, 20, 100, 20, 30, 20, 10])\n",
    "radar_chart.add('Actual Spending', [70, 50, 40, 10, 17, 8, 10])\n",
    "radar_chart.render_to_file('radar_chart.svg')"
   ]
  },
  {
   "cell_type": "code",
   "execution_count": 20,
   "metadata": {
    "collapsed": true
   },
   "outputs": [],
   "source": [
    "box_plot = pygal.Box()\n",
    "box_plot.title = 'Cost of Whole Milk in early 2014'\n",
    "box_plot.add('US Dollars', [2.08, 3.14, 3.89, 3.91, 3.94, 3.98])\n",
    "box_plot.render_to_file('box_plot.svg')"
   ]
  },
  {
   "cell_type": "code",
   "execution_count": 22,
   "metadata": {
    "collapsed": true
   },
   "outputs": [],
   "source": [
    "box_plot = pygal.Box()\n",
    "box_plot.title = 'Cost of Whole Milk in early 2014'\n",
    "box_plot.add('US Dollars', [2.08, 3.14, 3.89, 3.91, 3.94, 3.98])\n",
    "box_plot.add('Pound Sterling', [2.78, 3.84, 1.69, 4.71, 4.84, 4.92])\n",
    "box_plot.render_to_file('boxxx_plot.svg')"
   ]
  },
  {
   "cell_type": "code",
   "execution_count": 23,
   "metadata": {
    "collapsed": true
   },
   "outputs": [],
   "source": [
    "dot_chart = pygal.Dot()\n",
    "dot_chart.title = 'Cost of Whole Milk in early 2014'\n",
    "dot_chart.add('US Dollars', [2.08, 3.14, 3.89, 3.91, 3.94, 3.98])\n",
    "dot_chart.render_to_file('dot_chart.svg')"
   ]
  },
  {
   "cell_type": "code",
   "execution_count": 24,
   "metadata": {
    "collapsed": true
   },
   "outputs": [],
   "source": [
    "dot_chart = pygal.Dot(x_label_rotation=45)\n",
    "dot_chart.title = 'Cost of Whole Milk in early 2014'\n",
    "dot_chart.x_labels = ['Jan', 'Feb', 'Mar', 'April', 'May', 'June']\n",
    "dot_chart.add('US Dollars', [2.08, 3.14, 3.89, 3.91, 3.94, 3.98])\n",
    "dot_chart.add('Pound Sterling', [2.78, 3.84, 1.69, 4.71, 4.84, 4.92])\n",
    "dot_chart.render_to_file('dottt_chart.svg')"
   ]
  },
  {
   "cell_type": "code",
   "execution_count": 26,
   "metadata": {
    "collapsed": false
   },
   "outputs": [],
   "source": [
    "funnel_chart = pygal.Funnel(x_label_rotation=40)\n",
    "funnel_chart.title = 'Amount of thrust used in a space shuttle at takeoff (in lbs)'\n",
    "funnel_chart.x_labels = ['Pre-takeoff', '5 min', ' 10 min', '15 min',\n",
    "'20 min']\n",
    "funnel_chart.add('Main Engine', [7000000, 6115200, 5009600, 4347400,\n",
    "2341211])\n",
    "funnel_chart.add('Engine #1', [1285000, 1072000, 89000, 51600, 12960])\n",
    "funnel_chart.add('Engine #3 & #4 (mid-size)', [99000, 61600, 21960,\n",
    "17856, 11235])\n",
    "funnel_chart.render_to_file('funnel_chart.svg')"
   ]
  },
  {
   "cell_type": "code",
   "execution_count": 27,
   "metadata": {
    "collapsed": true
   },
   "outputs": [],
   "source": [
    "gauge_chart = pygal.Gauge()\n",
    "gauge_chart.title = 'Speed of space shuttle during takeoff'\n",
    "gauge_chart.x_labels = ['Pre-takeoff', '5 min', ' 10 min', '15 min',\n",
    "'20 min']\n",
    "gauge_chart.add('Pre-takeoff', 0)\n",
    "gauge_chart.add('5 min', 96)\n",
    "gauge_chart.add('10 min', 167)\n",
    "gauge_chart.add('15 min', 249)\n",
    "gauge_chart.add('20 min', 339)\n",
    "gauge_chart.render_to_file('gauge_chart.svg')"
   ]
  },
  {
   "cell_type": "code",
   "execution_count": 48,
   "metadata": {
    "collapsed": true
   },
   "outputs": [],
   "source": [
    "gauge_chart = pygal.Gauge(human_readable=True)\n",
    "gauge_chart.title = 'Speed of space shuttle during takeoff'\n",
    "gauge_chart.x_labels = ['Pre-takeoff', '5 min', ' 10 min', '15 min',\n",
    "'20 min']\n",
    "gauge_chart.add('Pre-takeoff', 0)\n",
    "gauge_chart.add('5 min', 96)\n",
    "gauge_chart.add('10 min', 167)\n",
    "gauge_chart.add('15 min', 249)\n",
    "gauge_chart.add('20 min', 339)\n",
    "gauge_chart.render_to_file('gaugeeee_chart.svg')"
   ]
  }
 ],
 "metadata": {
  "anaconda-cloud": {},
  "kernelspec": {
   "display_name": "Python [conda root]",
   "language": "python",
   "name": "conda-root-py"
  },
  "language_info": {
   "codemirror_mode": {
    "name": "ipython",
    "version": 2
   },
   "file_extension": ".py",
   "mimetype": "text/x-python",
   "name": "python",
   "nbconvert_exporter": "python",
   "pygments_lexer": "ipython2",
   "version": "2.7.12"
  }
 },
 "nbformat": 4,
 "nbformat_minor": 2
}
